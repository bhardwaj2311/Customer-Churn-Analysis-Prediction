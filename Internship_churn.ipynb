{
 "cells": [
  {
   "cell_type": "code",
   "execution_count": 207,
   "id": "prostate-halifax",
   "metadata": {},
   "outputs": [
    {
     "data": {
      "text/html": [
       "<div>\n",
       "<style scoped>\n",
       "    .dataframe tbody tr th:only-of-type {\n",
       "        vertical-align: middle;\n",
       "    }\n",
       "\n",
       "    .dataframe tbody tr th {\n",
       "        vertical-align: top;\n",
       "    }\n",
       "\n",
       "    .dataframe thead th {\n",
       "        text-align: right;\n",
       "    }\n",
       "</style>\n",
       "<table border=\"1\" class=\"dataframe\">\n",
       "  <thead>\n",
       "    <tr style=\"text-align: right;\">\n",
       "      <th></th>\n",
       "      <th>customerID</th>\n",
       "      <th>gender</th>\n",
       "      <th>SeniorCitizen</th>\n",
       "      <th>Partner</th>\n",
       "      <th>Dependents</th>\n",
       "      <th>tenure</th>\n",
       "      <th>PhoneService</th>\n",
       "      <th>MultipleLines</th>\n",
       "      <th>InternetService</th>\n",
       "      <th>OnlineSecurity</th>\n",
       "      <th>...</th>\n",
       "      <th>DeviceProtection</th>\n",
       "      <th>TechSupport</th>\n",
       "      <th>StreamingTV</th>\n",
       "      <th>StreamingMovies</th>\n",
       "      <th>Contract</th>\n",
       "      <th>PaperlessBilling</th>\n",
       "      <th>PaymentMethod</th>\n",
       "      <th>MonthlyCharges</th>\n",
       "      <th>TotalCharges</th>\n",
       "      <th>Churn</th>\n",
       "    </tr>\n",
       "  </thead>\n",
       "  <tbody>\n",
       "    <tr>\n",
       "      <th>0</th>\n",
       "      <td>7590-VHVEG</td>\n",
       "      <td>Female</td>\n",
       "      <td>0</td>\n",
       "      <td>Yes</td>\n",
       "      <td>No</td>\n",
       "      <td>1</td>\n",
       "      <td>No</td>\n",
       "      <td>No phone service</td>\n",
       "      <td>DSL</td>\n",
       "      <td>No</td>\n",
       "      <td>...</td>\n",
       "      <td>No</td>\n",
       "      <td>No</td>\n",
       "      <td>No</td>\n",
       "      <td>No</td>\n",
       "      <td>Month-to-month</td>\n",
       "      <td>Yes</td>\n",
       "      <td>Electronic check</td>\n",
       "      <td>29.85</td>\n",
       "      <td>29.85</td>\n",
       "      <td>No</td>\n",
       "    </tr>\n",
       "    <tr>\n",
       "      <th>1</th>\n",
       "      <td>5575-GNVDE</td>\n",
       "      <td>Male</td>\n",
       "      <td>0</td>\n",
       "      <td>No</td>\n",
       "      <td>No</td>\n",
       "      <td>34</td>\n",
       "      <td>Yes</td>\n",
       "      <td>No</td>\n",
       "      <td>DSL</td>\n",
       "      <td>Yes</td>\n",
       "      <td>...</td>\n",
       "      <td>Yes</td>\n",
       "      <td>No</td>\n",
       "      <td>No</td>\n",
       "      <td>No</td>\n",
       "      <td>One year</td>\n",
       "      <td>No</td>\n",
       "      <td>Mailed check</td>\n",
       "      <td>56.95</td>\n",
       "      <td>1889.5</td>\n",
       "      <td>No</td>\n",
       "    </tr>\n",
       "    <tr>\n",
       "      <th>2</th>\n",
       "      <td>3668-QPYBK</td>\n",
       "      <td>Male</td>\n",
       "      <td>0</td>\n",
       "      <td>No</td>\n",
       "      <td>No</td>\n",
       "      <td>2</td>\n",
       "      <td>Yes</td>\n",
       "      <td>No</td>\n",
       "      <td>DSL</td>\n",
       "      <td>Yes</td>\n",
       "      <td>...</td>\n",
       "      <td>No</td>\n",
       "      <td>No</td>\n",
       "      <td>No</td>\n",
       "      <td>No</td>\n",
       "      <td>Month-to-month</td>\n",
       "      <td>Yes</td>\n",
       "      <td>Mailed check</td>\n",
       "      <td>53.85</td>\n",
       "      <td>108.15</td>\n",
       "      <td>Yes</td>\n",
       "    </tr>\n",
       "    <tr>\n",
       "      <th>3</th>\n",
       "      <td>7795-CFOCW</td>\n",
       "      <td>Male</td>\n",
       "      <td>0</td>\n",
       "      <td>No</td>\n",
       "      <td>No</td>\n",
       "      <td>45</td>\n",
       "      <td>No</td>\n",
       "      <td>No phone service</td>\n",
       "      <td>DSL</td>\n",
       "      <td>Yes</td>\n",
       "      <td>...</td>\n",
       "      <td>Yes</td>\n",
       "      <td>Yes</td>\n",
       "      <td>No</td>\n",
       "      <td>No</td>\n",
       "      <td>One year</td>\n",
       "      <td>No</td>\n",
       "      <td>Bank transfer (automatic)</td>\n",
       "      <td>42.30</td>\n",
       "      <td>1840.75</td>\n",
       "      <td>No</td>\n",
       "    </tr>\n",
       "    <tr>\n",
       "      <th>4</th>\n",
       "      <td>9237-HQITU</td>\n",
       "      <td>Female</td>\n",
       "      <td>0</td>\n",
       "      <td>No</td>\n",
       "      <td>No</td>\n",
       "      <td>2</td>\n",
       "      <td>Yes</td>\n",
       "      <td>No</td>\n",
       "      <td>Fiber optic</td>\n",
       "      <td>No</td>\n",
       "      <td>...</td>\n",
       "      <td>No</td>\n",
       "      <td>No</td>\n",
       "      <td>No</td>\n",
       "      <td>No</td>\n",
       "      <td>Month-to-month</td>\n",
       "      <td>Yes</td>\n",
       "      <td>Electronic check</td>\n",
       "      <td>70.70</td>\n",
       "      <td>151.65</td>\n",
       "      <td>Yes</td>\n",
       "    </tr>\n",
       "  </tbody>\n",
       "</table>\n",
       "<p>5 rows × 21 columns</p>\n",
       "</div>"
      ],
      "text/plain": [
       "   customerID  gender  SeniorCitizen Partner Dependents  tenure PhoneService  \\\n",
       "0  7590-VHVEG  Female              0     Yes         No       1           No   \n",
       "1  5575-GNVDE    Male              0      No         No      34          Yes   \n",
       "2  3668-QPYBK    Male              0      No         No       2          Yes   \n",
       "3  7795-CFOCW    Male              0      No         No      45           No   \n",
       "4  9237-HQITU  Female              0      No         No       2          Yes   \n",
       "\n",
       "      MultipleLines InternetService OnlineSecurity  ... DeviceProtection  \\\n",
       "0  No phone service             DSL             No  ...               No   \n",
       "1                No             DSL            Yes  ...              Yes   \n",
       "2                No             DSL            Yes  ...               No   \n",
       "3  No phone service             DSL            Yes  ...              Yes   \n",
       "4                No     Fiber optic             No  ...               No   \n",
       "\n",
       "  TechSupport StreamingTV StreamingMovies        Contract PaperlessBilling  \\\n",
       "0          No          No              No  Month-to-month              Yes   \n",
       "1          No          No              No        One year               No   \n",
       "2          No          No              No  Month-to-month              Yes   \n",
       "3         Yes          No              No        One year               No   \n",
       "4          No          No              No  Month-to-month              Yes   \n",
       "\n",
       "               PaymentMethod MonthlyCharges  TotalCharges Churn  \n",
       "0           Electronic check          29.85         29.85    No  \n",
       "1               Mailed check          56.95        1889.5    No  \n",
       "2               Mailed check          53.85        108.15   Yes  \n",
       "3  Bank transfer (automatic)          42.30       1840.75    No  \n",
       "4           Electronic check          70.70        151.65   Yes  \n",
       "\n",
       "[5 rows x 21 columns]"
      ]
     },
     "execution_count": 207,
     "metadata": {},
     "output_type": "execute_result"
    }
   ],
   "source": [
    "import numpy as np\n",
    "import pandas as pd\n",
    "from sklearn.preprocessing import OneHotEncoder, LabelEncoder\n",
    "dataset = pd.read_csv(\"Churn.csv\")\n",
    "\n",
    "dataset.head()"
   ]
  },
  {
   "cell_type": "code",
   "execution_count": 56,
   "id": "military-headline",
   "metadata": {},
   "outputs": [
    {
     "data": {
      "text/plain": [
       "Index(['customerID', 'gender', 'SeniorCitizen', 'Partner', 'Dependents',\n",
       "       'tenure', 'PhoneService', 'MultipleLines', 'InternetService',\n",
       "       'OnlineSecurity', 'OnlineBackup', 'DeviceProtection', 'TechSupport',\n",
       "       'StreamingTV', 'StreamingMovies', 'Contract', 'PaperlessBilling',\n",
       "       'PaymentMethod', 'MonthlyCharges', 'TotalCharges', 'Churn'],\n",
       "      dtype='object')"
      ]
     },
     "execution_count": 56,
     "metadata": {},
     "output_type": "execute_result"
    }
   ],
   "source": [
    "dataset.columns"
   ]
  },
  {
   "cell_type": "code",
   "execution_count": 57,
   "id": "specific-calvin",
   "metadata": {},
   "outputs": [
    {
     "data": {
      "text/plain": [
       "No     5174\n",
       "Yes    1869\n",
       "Name: Churn, dtype: int64"
      ]
     },
     "execution_count": 57,
     "metadata": {},
     "output_type": "execute_result"
    }
   ],
   "source": [
    "dataset['Churn'].value_counts()\n"
   ]
  },
  {
   "cell_type": "code",
   "execution_count": 145,
   "id": "earlier-gibson",
   "metadata": {},
   "outputs": [
    {
     "name": "stdout",
     "output_type": "stream",
     "text": [
      "PaymentMethod              Churn\n",
      "Bank transfer (automatic)  No       1286\n",
      "                           Yes       258\n",
      "Credit card (automatic)    No       1290\n",
      "                           Yes       232\n",
      "Electronic check           No       1294\n",
      "                           Yes      1071\n",
      "Mailed check               No       1304\n",
      "                           Yes       308\n",
      "Name: Churn, dtype: int64\n"
     ]
    }
   ],
   "source": [
    "print(dataset.groupby('PaymentMethod')['Churn'].value_counts())\n"
   ]
  },
  {
   "cell_type": "code",
   "execution_count": 8,
   "id": "touched-modern",
   "metadata": {},
   "outputs": [
    {
     "name": "stdout",
     "output_type": "stream",
     "text": [
      "Dependents  Churn\n",
      "No          No       3390\n",
      "            Yes      1543\n",
      "Yes         No       1784\n",
      "            Yes       326\n",
      "Name: Churn, dtype: int64\n"
     ]
    }
   ],
   "source": [
    "print(dataset.groupby('Dependents')['Churn'].value_counts())"
   ]
  },
  {
   "cell_type": "code",
   "execution_count": 9,
   "id": "likely-election",
   "metadata": {},
   "outputs": [
    {
     "name": "stdout",
     "output_type": "stream",
     "text": [
      "OnlineSecurity       Churn\n",
      "No                   No       2037\n",
      "                     Yes      1461\n",
      "No internet service  No       1413\n",
      "                     Yes       113\n",
      "Yes                  No       1724\n",
      "                     Yes       295\n",
      "Name: Churn, dtype: int64\n"
     ]
    }
   ],
   "source": [
    "print(dataset.groupby('OnlineSecurity')['Churn'].value_counts())"
   ]
  },
  {
   "cell_type": "code",
   "execution_count": 14,
   "id": "meaning-artwork",
   "metadata": {},
   "outputs": [
    {
     "name": "stdout",
     "output_type": "stream",
     "text": [
      "Contract        Churn\n",
      "Month-to-month  No       2220\n",
      "                Yes      1655\n",
      "One year        No       1307\n",
      "                Yes       166\n",
      "Two year        No       1647\n",
      "                Yes        48\n",
      "Name: Churn, dtype: int64\n"
     ]
    }
   ],
   "source": [
    "print(dataset.groupby('Contract')['Churn'].value_counts())"
   ]
  },
  {
   "cell_type": "code",
   "execution_count": 16,
   "id": "sexual-finance",
   "metadata": {},
   "outputs": [
    {
     "name": "stdout",
     "output_type": "stream",
     "text": [
      "OnlineBackup         Churn\n",
      "No                   No       1855\n",
      "                     Yes      1233\n",
      "No internet service  No       1413\n",
      "                     Yes       113\n",
      "Yes                  No       1906\n",
      "                     Yes       523\n",
      "Name: Churn, dtype: int64\n"
     ]
    }
   ],
   "source": [
    "print(dataset.groupby('OnlineBackup')['Churn'].value_counts())"
   ]
  },
  {
   "cell_type": "code",
   "execution_count": 17,
   "id": "least-painting",
   "metadata": {},
   "outputs": [
    {
     "name": "stdout",
     "output_type": "stream",
     "text": [
      "TechSupport          Churn\n",
      "No                   No       2027\n",
      "                     Yes      1446\n",
      "No internet service  No       1413\n",
      "                     Yes       113\n",
      "Yes                  No       1734\n",
      "                     Yes       310\n",
      "Name: Churn, dtype: int64\n"
     ]
    }
   ],
   "source": [
    "print(dataset.groupby('TechSupport')['Churn'].value_counts())"
   ]
  },
  {
   "cell_type": "code",
   "execution_count": 27,
   "id": "naval-reservation",
   "metadata": {},
   "outputs": [
    {
     "name": "stdout",
     "output_type": "stream",
     "text": [
      "InternetService  Churn\n",
      "DSL              No       1962\n",
      "                 Yes       459\n",
      "Fiber optic      No       1799\n",
      "                 Yes      1297\n",
      "No               No       1413\n",
      "                 Yes       113\n",
      "Name: Churn, dtype: int64\n"
     ]
    }
   ],
   "source": [
    "print(dataset.groupby('InternetService')['Churn'].value_counts())"
   ]
  },
  {
   "cell_type": "code",
   "execution_count": 208,
   "id": "timely-palestinian",
   "metadata": {},
   "outputs": [],
   "source": [
    "X = dataset.iloc[:, 0:20].values\n",
    "y = dataset.iloc[:, 20].values # Churn\n",
    "\n",
    "from sklearn.preprocessing import LabelEncoder\n",
    "\n",
    "labelencoder_X_0 = LabelEncoder()\n",
    "X[:, 1] = labelencoder_X_0.fit_transform(X[:, 1])\n",
    "\n",
    "labelencoder_X_1 = LabelEncoder()\n",
    "X[:, 3] = labelencoder_X_1.fit_transform(X[:, 3])\n",
    "\n",
    "labelencoder_X_2 = LabelEncoder()\n",
    "X[:, 4] = labelencoder_X_2.fit_transform(X[:, 4])\n",
    "\n",
    "labelencoder_X_3 = LabelEncoder()\n",
    "X[:, 6] = labelencoder_X_3.fit_transform(X[:, 6])\n",
    "\n",
    "labelencoder_X_12 = LabelEncoder()\n",
    "X[:, 9] = labelencoder_X_12.fit_transform(X[:, 9])\n",
    "\n",
    "labelencoder_X_4 = LabelEncoder()\n",
    "X[:, 8] = labelencoder_X_4.fit_transform(X[:, 8])\n",
    "\n",
    "labelencoder_X_5 = LabelEncoder()\n",
    "X[:, 10] = labelencoder_X_5.fit_transform(X[:, 10])\n",
    "\n",
    "labelencoder_X_6 = LabelEncoder()\n",
    "X[:, 11] = labelencoder_X_6.fit_transform(X[:, 11])\n",
    "\n",
    "labelencoder_X_7 = LabelEncoder()\n",
    "X[:, 12] = labelencoder_X_7.fit_transform(X[:, 12])\n",
    "\n",
    "labelencoder_X_8 = LabelEncoder()\n",
    "X[:, 13] = labelencoder_X_8.fit_transform(X[:, 13])\n",
    "\n",
    "labelencoder_X_9 = LabelEncoder()\n",
    "X[:, 14] = labelencoder_X_9.fit_transform(X[:, 14])\n",
    "\n",
    "labelencoder_X_10 = LabelEncoder()\n",
    "X[:, 16] = labelencoder_X_10.fit_transform(X[:, 16])\n",
    "\n",
    "labelencoder_y = LabelEncoder()\n",
    "y = labelencoder_y.fit_transform(y)\n"
   ]
  },
  {
   "cell_type": "code",
   "execution_count": 209,
   "id": "simple-ownership",
   "metadata": {},
   "outputs": [],
   "source": [
    "X_Contract = pd.get_dummies(X[:, 15])\n",
    "X_PaymentMethod = pd.get_dummies(X[:, 17])\n",
    "\n",
    "X = pd.DataFrame(X)\n",
    "X = X.drop([15], axis = 1)\n",
    "X = X.drop([17], axis = 1)\n",
    "\n",
    "frames = [X_Contract, X_PaymentMethod, X]\n",
    "result = pd.concat(frames, axis = 1, ignore_index = True)\n",
    "\n",
    "X = result\n"
   ]
  },
  {
   "cell_type": "code",
   "execution_count": 210,
   "id": "supreme-athletics",
   "metadata": {},
   "outputs": [
    {
     "name": "stdout",
     "output_type": "stream",
     "text": [
      "      0   1   2   3   4   5   6           7  8  9   ... 15 16 17 18 19 20 21  \\\n",
      "0      1   0   0   0   0   1   0  7590-VHVEG  0  0  ...  0  0  2  0  0  0  0   \n",
      "1      0   1   0   0   0   0   1  5575-GNVDE  1  0  ...  0  2  0  2  0  0  0   \n",
      "2      1   0   0   0   0   0   1  3668-QPYBK  1  0  ...  0  2  2  0  0  0  0   \n",
      "3      0   1   0   1   0   0   0  7795-CFOCW  1  0  ...  0  2  0  2  2  0  0   \n",
      "4      1   0   0   0   0   1   0  9237-HQITU  0  0  ...  1  0  0  0  0  0  0   \n",
      "...   ..  ..  ..  ..  ..  ..  ..         ... .. ..  ... .. .. .. .. .. .. ..   \n",
      "7038   0   1   0   0   0   0   1  6840-RESVB  1  0  ...  0  2  0  2  2  2  2   \n",
      "7039   0   1   0   0   1   0   0  2234-XADUH  0  0  ...  1  0  2  2  0  2  2   \n",
      "7040   1   0   0   0   0   1   0  4801-JZAZL  0  0  ...  0  2  0  0  0  0  0   \n",
      "7041   1   0   0   0   0   0   1  8361-LTMKD  1  1  ...  1  0  0  0  0  0  0   \n",
      "7042   0   0   1   1   0   0   0  3186-AJIEK  1  0  ...  1  2  0  2  2  2  2   \n",
      "\n",
      "     22      23       24  \n",
      "0     1   29.85    29.85  \n",
      "1     0   56.95   1889.5  \n",
      "2     1   53.85   108.15  \n",
      "3     0    42.3  1840.75  \n",
      "4     1    70.7   151.65  \n",
      "...  ..     ...      ...  \n",
      "7038  1    84.8   1990.5  \n",
      "7039  1   103.2   7362.9  \n",
      "7040  1    29.6   346.45  \n",
      "7041  1    74.4    306.6  \n",
      "7042  1  105.65   6844.5  \n",
      "\n",
      "[7043 rows x 25 columns]\n"
     ]
    }
   ],
   "source": [
    "print(X)"
   ]
  },
  {
   "cell_type": "code",
   "execution_count": null,
   "id": "trained-glenn",
   "metadata": {},
   "outputs": [],
   "source": [
    "#dropping unnecessary columns"
   ]
  },
  {
   "cell_type": "code",
   "execution_count": 211,
   "id": "stable-tamil",
   "metadata": {},
   "outputs": [],
   "source": [
    "X = X.drop([7], axis = 1)"
   ]
  },
  {
   "cell_type": "code",
   "execution_count": 212,
   "id": "statewide-focus",
   "metadata": {},
   "outputs": [],
   "source": [
    "X = X.drop([14], axis = 1)"
   ]
  },
  {
   "cell_type": "code",
   "execution_count": 213,
   "id": "aquatic-description",
   "metadata": {},
   "outputs": [],
   "source": [
    "X = X.drop([24], axis = 1)"
   ]
  },
  {
   "cell_type": "code",
   "execution_count": 214,
   "id": "brazilian-father",
   "metadata": {},
   "outputs": [],
   "source": [
    "X = X.drop([23], axis = 1)"
   ]
  },
  {
   "cell_type": "code",
   "execution_count": 215,
   "id": "paperback-mentor",
   "metadata": {},
   "outputs": [
    {
     "name": "stdout",
     "output_type": "stream",
     "text": [
      "      0   1   2   3   4   5   6  8  9  10  ...  12 13 15 16 17 18 19 20 21 22\n",
      "0      1   0   0   0   0   1   0  0  0  1  ...   1  0  0  0  2  0  0  0  0  1\n",
      "1      0   1   0   0   0   0   1  1  0  0  ...  34  1  0  2  0  2  0  0  0  0\n",
      "2      1   0   0   0   0   0   1  1  0  0  ...   2  1  0  2  2  0  0  0  0  1\n",
      "3      0   1   0   1   0   0   0  1  0  0  ...  45  0  0  2  0  2  2  0  0  0\n",
      "4      1   0   0   0   0   1   0  0  0  0  ...   2  1  1  0  0  0  0  0  0  1\n",
      "...   ..  ..  ..  ..  ..  ..  .. .. .. ..  ...  .. .. .. .. .. .. .. .. .. ..\n",
      "7038   0   1   0   0   0   0   1  1  0  1  ...  24  1  0  2  0  2  2  2  2  1\n",
      "7039   0   1   0   0   1   0   0  0  0  1  ...  72  1  1  0  2  2  0  2  2  1\n",
      "7040   1   0   0   0   0   1   0  0  0  1  ...  11  0  0  2  0  0  0  0  0  1\n",
      "7041   1   0   0   0   0   0   1  1  1  1  ...   4  1  1  0  0  0  0  0  0  1\n",
      "7042   0   0   1   1   0   0   0  1  0  0  ...  66  1  1  2  0  2  2  2  2  1\n",
      "\n",
      "[7043 rows x 21 columns]\n"
     ]
    }
   ],
   "source": [
    "print(X)"
   ]
  },
  {
   "cell_type": "code",
   "execution_count": 247,
   "id": "breeding-injury",
   "metadata": {},
   "outputs": [],
   "source": [
    "from sklearn.model_selection import train_test_split\n",
    "X_train, X_test, y_train, y_test = train_test_split(X, y,test_size = 0.35,random_state = 1)\n"
   ]
  },
  {
   "cell_type": "code",
   "execution_count": 248,
   "id": "listed-applicant",
   "metadata": {},
   "outputs": [],
   "source": [
    "from sklearn.preprocessing import StandardScaler\n",
    "from sklearn.preprocessing import RobustScaler\n",
    "scaler = RobustScaler()\n",
    "X_train = scaler.fit_transform(X_train)\n",
    "X_test = scaler.transform(X_test)"
   ]
  },
  {
   "cell_type": "code",
   "execution_count": 249,
   "id": "approximate-respect",
   "metadata": {},
   "outputs": [
    {
     "data": {
      "text/plain": [
       "RandomForestClassifier()"
      ]
     },
     "execution_count": 249,
     "metadata": {},
     "output_type": "execute_result"
    }
   ],
   "source": [
    "from sklearn.ensemble import RandomForestClassifier\n",
    "\n",
    "# Instantiate the classifier\n",
    "clf = RandomForestClassifier()\n",
    "\n",
    "# Fit to the training data\n",
    "clf.fit(X_train, y_train)\n"
   ]
  },
  {
   "cell_type": "code",
   "execution_count": 250,
   "id": "published-initial",
   "metadata": {},
   "outputs": [],
   "source": [
    "y_pred = clf.predict(X_test)\n"
   ]
  },
  {
   "cell_type": "code",
   "execution_count": 251,
   "id": "varied-amplifier",
   "metadata": {},
   "outputs": [
    {
     "data": {
      "text/plain": [
       "0.7834549878345499"
      ]
     },
     "execution_count": 251,
     "metadata": {},
     "output_type": "execute_result"
    }
   ],
   "source": [
    "from sklearn.metrics import accuracy_score\n",
    "\n",
    "accuracy_score(y_test, y_pred)\n"
   ]
  },
  {
   "cell_type": "code",
   "execution_count": 252,
   "id": "forty-roman",
   "metadata": {},
   "outputs": [
    {
     "name": "stdout",
     "output_type": "stream",
     "text": [
      "[[1618  222]\n",
      " [ 312  314]]\n"
     ]
    }
   ],
   "source": [
    "from sklearn.metrics import confusion_matrix\n",
    "print(confusion_matrix(y_test, y_pred))\n"
   ]
  },
  {
   "cell_type": "code",
   "execution_count": null,
   "id": "planned-rhythm",
   "metadata": {},
   "outputs": [],
   "source": [
    "#This model I built, works on Random Forest Classifiers. At initial stages, I checked how the churn gets affected with\n",
    "#different factors available in the csv file, this help me to decide what all are the factors I'll be adding up to my model.\n",
    "#The Accuracy score I calculated at last combined with the Confusion matrix tells us about the performance of the model.\n",
    "#Other techniques like SVM, Logistic regression, XGBoost could have been used here."
   ]
  },
  {
   "cell_type": "code",
   "execution_count": null,
   "id": "comparable-century",
   "metadata": {},
   "outputs": [],
   "source": [
    "#Offers that should be made:\n",
    "#    Encouraging long contract based connetions such as for one or two years.\n",
    "#    Providing Tech Sopport and doing a regular check-up on every customer.\n",
    "#    Providing exciting Offers on features like Online Security to encourage more customers for buying it.\n",
    "#    There's a huge number of customers using optic fibre, leaving the brand. There must be some issues there,\n",
    "#    It's possible that the prices are bit high as compared to the market, the speed is low or there's some faults occuring\n",
    "#    every then and now. And this needs to be fix asap."
   ]
  },
  {
   "cell_type": "code",
   "execution_count": null,
   "id": "artificial-animation",
   "metadata": {},
   "outputs": [],
   "source": [
    "#If all that worked, and we successfully manage to do all those things, we can check it worked by analyzing the data\n",
    "#using graphs and also calculating the churn rate for the particular time and comparing it to the previous rates."
   ]
  }
 ],
 "metadata": {
  "kernelspec": {
   "display_name": "Python 3",
   "language": "python",
   "name": "python3"
  },
  "language_info": {
   "codemirror_mode": {
    "name": "ipython",
    "version": 3
   },
   "file_extension": ".py",
   "mimetype": "text/x-python",
   "name": "python",
   "nbconvert_exporter": "python",
   "pygments_lexer": "ipython3",
   "version": "3.7.6"
  }
 },
 "nbformat": 4,
 "nbformat_minor": 5
}
